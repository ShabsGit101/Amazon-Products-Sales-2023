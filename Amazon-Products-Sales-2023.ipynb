{
 "cells": [
  {
   "cell_type": "markdown",
   "id": "59cfac7f",
   "metadata": {},
   "source": [
    "# Amazon Products Sales (2023) Data Analysis"
   ]
  },
  {
   "cell_type": "markdown",
   "id": "360cfa3a",
   "metadata": {},
   "source": [
    "# **Objectives:**\n",
    "\n",
    "* What kind of products have the highest rating\n",
    "* What factors mostly influence higher rating\n",
    "* Are more products with discount have hight rating or the ones with their actual price\n",
    "* What products have the highest rating but lowest price "
   ]
  },
  {
   "cell_type": "code",
   "execution_count": 1,
   "id": "1ed83845",
   "metadata": {},
   "outputs": [],
   "source": [
    "import numpy as np\n",
    "import pandas as pd\n",
    "import matplotlib.pyplot as plt\n",
    "import seaborn as sns\n"
   ]
  },
  {
   "cell_type": "code",
   "execution_count": 2,
   "id": "2e58a730",
   "metadata": {},
   "outputs": [],
   "source": [
    "df = pd.read_csv('Amazon-Products.csv')"
   ]
  },
  {
   "cell_type": "code",
   "execution_count": 3,
   "id": "4f641705",
   "metadata": {},
   "outputs": [
    {
     "data": {
      "text/html": [
       "<div>\n",
       "<style scoped>\n",
       "    .dataframe tbody tr th:only-of-type {\n",
       "        vertical-align: middle;\n",
       "    }\n",
       "\n",
       "    .dataframe tbody tr th {\n",
       "        vertical-align: top;\n",
       "    }\n",
       "\n",
       "    .dataframe thead th {\n",
       "        text-align: right;\n",
       "    }\n",
       "</style>\n",
       "<table border=\"1\" class=\"dataframe\">\n",
       "  <thead>\n",
       "    <tr style=\"text-align: right;\">\n",
       "      <th></th>\n",
       "      <th>Unnamed: 0</th>\n",
       "      <th>name</th>\n",
       "      <th>main_category</th>\n",
       "      <th>sub_category</th>\n",
       "      <th>image</th>\n",
       "      <th>link</th>\n",
       "      <th>ratings</th>\n",
       "      <th>no_of_ratings</th>\n",
       "      <th>discount_price</th>\n",
       "      <th>actual_price</th>\n",
       "    </tr>\n",
       "  </thead>\n",
       "  <tbody>\n",
       "    <tr>\n",
       "      <th>0</th>\n",
       "      <td>0</td>\n",
       "      <td>Lloyd 1.5 Ton 3 Star Inverter Split Ac (5 In 1...</td>\n",
       "      <td>appliances</td>\n",
       "      <td>Air Conditioners</td>\n",
       "      <td>https://m.media-amazon.com/images/I/31UISB90sY...</td>\n",
       "      <td>https://www.amazon.in/Lloyd-Inverter-Convertib...</td>\n",
       "      <td>4.2</td>\n",
       "      <td>2,255</td>\n",
       "      <td>₹32,999</td>\n",
       "      <td>₹58,990</td>\n",
       "    </tr>\n",
       "    <tr>\n",
       "      <th>1</th>\n",
       "      <td>1</td>\n",
       "      <td>LG 1.5 Ton 5 Star AI DUAL Inverter Split AC (C...</td>\n",
       "      <td>appliances</td>\n",
       "      <td>Air Conditioners</td>\n",
       "      <td>https://m.media-amazon.com/images/I/51JFb7FctD...</td>\n",
       "      <td>https://www.amazon.in/LG-Convertible-Anti-Viru...</td>\n",
       "      <td>4.2</td>\n",
       "      <td>2,948</td>\n",
       "      <td>₹46,490</td>\n",
       "      <td>₹75,990</td>\n",
       "    </tr>\n",
       "    <tr>\n",
       "      <th>2</th>\n",
       "      <td>2</td>\n",
       "      <td>LG 1 Ton 4 Star Ai Dual Inverter Split Ac (Cop...</td>\n",
       "      <td>appliances</td>\n",
       "      <td>Air Conditioners</td>\n",
       "      <td>https://m.media-amazon.com/images/I/51JFb7FctD...</td>\n",
       "      <td>https://www.amazon.in/LG-Inverter-Convertible-...</td>\n",
       "      <td>4.2</td>\n",
       "      <td>1,206</td>\n",
       "      <td>₹34,490</td>\n",
       "      <td>₹61,990</td>\n",
       "    </tr>\n",
       "    <tr>\n",
       "      <th>3</th>\n",
       "      <td>3</td>\n",
       "      <td>LG 1.5 Ton 3 Star AI DUAL Inverter Split AC (C...</td>\n",
       "      <td>appliances</td>\n",
       "      <td>Air Conditioners</td>\n",
       "      <td>https://m.media-amazon.com/images/I/51JFb7FctD...</td>\n",
       "      <td>https://www.amazon.in/LG-Convertible-Anti-Viru...</td>\n",
       "      <td>4.0</td>\n",
       "      <td>69</td>\n",
       "      <td>₹37,990</td>\n",
       "      <td>₹68,990</td>\n",
       "    </tr>\n",
       "    <tr>\n",
       "      <th>4</th>\n",
       "      <td>4</td>\n",
       "      <td>Carrier 1.5 Ton 3 Star Inverter Split AC (Copp...</td>\n",
       "      <td>appliances</td>\n",
       "      <td>Air Conditioners</td>\n",
       "      <td>https://m.media-amazon.com/images/I/41lrtqXPiW...</td>\n",
       "      <td>https://www.amazon.in/Carrier-Inverter-Split-C...</td>\n",
       "      <td>4.1</td>\n",
       "      <td>630</td>\n",
       "      <td>₹34,490</td>\n",
       "      <td>₹67,790</td>\n",
       "    </tr>\n",
       "  </tbody>\n",
       "</table>\n",
       "</div>"
      ],
      "text/plain": [
       "   Unnamed: 0                                               name  \\\n",
       "0           0  Lloyd 1.5 Ton 3 Star Inverter Split Ac (5 In 1...   \n",
       "1           1  LG 1.5 Ton 5 Star AI DUAL Inverter Split AC (C...   \n",
       "2           2  LG 1 Ton 4 Star Ai Dual Inverter Split Ac (Cop...   \n",
       "3           3  LG 1.5 Ton 3 Star AI DUAL Inverter Split AC (C...   \n",
       "4           4  Carrier 1.5 Ton 3 Star Inverter Split AC (Copp...   \n",
       "\n",
       "  main_category      sub_category  \\\n",
       "0    appliances  Air Conditioners   \n",
       "1    appliances  Air Conditioners   \n",
       "2    appliances  Air Conditioners   \n",
       "3    appliances  Air Conditioners   \n",
       "4    appliances  Air Conditioners   \n",
       "\n",
       "                                               image  \\\n",
       "0  https://m.media-amazon.com/images/I/31UISB90sY...   \n",
       "1  https://m.media-amazon.com/images/I/51JFb7FctD...   \n",
       "2  https://m.media-amazon.com/images/I/51JFb7FctD...   \n",
       "3  https://m.media-amazon.com/images/I/51JFb7FctD...   \n",
       "4  https://m.media-amazon.com/images/I/41lrtqXPiW...   \n",
       "\n",
       "                                                link ratings no_of_ratings  \\\n",
       "0  https://www.amazon.in/Lloyd-Inverter-Convertib...     4.2         2,255   \n",
       "1  https://www.amazon.in/LG-Convertible-Anti-Viru...     4.2         2,948   \n",
       "2  https://www.amazon.in/LG-Inverter-Convertible-...     4.2         1,206   \n",
       "3  https://www.amazon.in/LG-Convertible-Anti-Viru...     4.0            69   \n",
       "4  https://www.amazon.in/Carrier-Inverter-Split-C...     4.1           630   \n",
       "\n",
       "  discount_price actual_price  \n",
       "0        ₹32,999      ₹58,990  \n",
       "1        ₹46,490      ₹75,990  \n",
       "2        ₹34,490      ₹61,990  \n",
       "3        ₹37,990      ₹68,990  \n",
       "4        ₹34,490      ₹67,790  "
      ]
     },
     "execution_count": 3,
     "metadata": {},
     "output_type": "execute_result"
    }
   ],
   "source": [
    "df.head()"
   ]
  },
  {
   "cell_type": "markdown",
   "id": "c6fdcd12",
   "metadata": {},
   "source": [
    "# Data Cleaning # \n",
    "\n",
    "Features in the dataset we do not need:\n",
    "\n",
    "* Unnamed: 0\n",
    "* image\n",
    "* link"
   ]
  },
  {
   "cell_type": "code",
   "execution_count": 4,
   "id": "d1885688",
   "metadata": {},
   "outputs": [
    {
     "data": {
      "text/html": [
       "<div>\n",
       "<style scoped>\n",
       "    .dataframe tbody tr th:only-of-type {\n",
       "        vertical-align: middle;\n",
       "    }\n",
       "\n",
       "    .dataframe tbody tr th {\n",
       "        vertical-align: top;\n",
       "    }\n",
       "\n",
       "    .dataframe thead th {\n",
       "        text-align: right;\n",
       "    }\n",
       "</style>\n",
       "<table border=\"1\" class=\"dataframe\">\n",
       "  <thead>\n",
       "    <tr style=\"text-align: right;\">\n",
       "      <th></th>\n",
       "      <th>name</th>\n",
       "      <th>main_category</th>\n",
       "      <th>sub_category</th>\n",
       "      <th>ratings</th>\n",
       "      <th>no_of_ratings</th>\n",
       "      <th>discount_price</th>\n",
       "      <th>actual_price</th>\n",
       "    </tr>\n",
       "  </thead>\n",
       "  <tbody>\n",
       "    <tr>\n",
       "      <th>0</th>\n",
       "      <td>Lloyd 1.5 Ton 3 Star Inverter Split Ac (5 In 1...</td>\n",
       "      <td>appliances</td>\n",
       "      <td>Air Conditioners</td>\n",
       "      <td>4.2</td>\n",
       "      <td>2,255</td>\n",
       "      <td>₹32,999</td>\n",
       "      <td>₹58,990</td>\n",
       "    </tr>\n",
       "  </tbody>\n",
       "</table>\n",
       "</div>"
      ],
      "text/plain": [
       "                                                name main_category  \\\n",
       "0  Lloyd 1.5 Ton 3 Star Inverter Split Ac (5 In 1...    appliances   \n",
       "\n",
       "       sub_category ratings no_of_ratings discount_price actual_price  \n",
       "0  Air Conditioners     4.2         2,255        ₹32,999      ₹58,990  "
      ]
     },
     "execution_count": 4,
     "metadata": {},
     "output_type": "execute_result"
    }
   ],
   "source": [
    "df.drop(['Unnamed: 0', 'image', 'link'], axis=1, inplace=True)\n",
    "df.head(1)"
   ]
  },
  {
   "cell_type": "code",
   "execution_count": 5,
   "id": "bb8e769e",
   "metadata": {},
   "outputs": [
    {
     "name": "stdout",
     "output_type": "stream",
     "text": [
      "<class 'pandas.core.frame.DataFrame'>\n",
      "RangeIndex: 551585 entries, 0 to 551584\n",
      "Data columns (total 7 columns):\n",
      " #   Column          Non-Null Count   Dtype \n",
      "---  ------          --------------   ----- \n",
      " 0   name            551585 non-null  object\n",
      " 1   main_category   551585 non-null  object\n",
      " 2   sub_category    551585 non-null  object\n",
      " 3   ratings         375791 non-null  object\n",
      " 4   no_of_ratings   375791 non-null  object\n",
      " 5   discount_price  490422 non-null  object\n",
      " 6   actual_price    533772 non-null  object\n",
      "dtypes: object(7)\n",
      "memory usage: 29.5+ MB\n"
     ]
    }
   ],
   "source": [
    "df.info()"
   ]
  },
  {
   "cell_type": "markdown",
   "id": "00fd2ec1",
   "metadata": {},
   "source": [
    "Changing discount_price & actual_price from object to float data type"
   ]
  },
  {
   "cell_type": "code",
   "execution_count": 6,
   "id": "a41b43ed",
   "metadata": {},
   "outputs": [
    {
     "data": {
      "text/html": [
       "<div>\n",
       "<style scoped>\n",
       "    .dataframe tbody tr th:only-of-type {\n",
       "        vertical-align: middle;\n",
       "    }\n",
       "\n",
       "    .dataframe tbody tr th {\n",
       "        vertical-align: top;\n",
       "    }\n",
       "\n",
       "    .dataframe thead th {\n",
       "        text-align: right;\n",
       "    }\n",
       "</style>\n",
       "<table border=\"1\" class=\"dataframe\">\n",
       "  <thead>\n",
       "    <tr style=\"text-align: right;\">\n",
       "      <th></th>\n",
       "      <th>name</th>\n",
       "      <th>main_category</th>\n",
       "      <th>sub_category</th>\n",
       "      <th>ratings</th>\n",
       "      <th>no_of_ratings</th>\n",
       "      <th>discount_price</th>\n",
       "      <th>actual_price</th>\n",
       "    </tr>\n",
       "  </thead>\n",
       "  <tbody>\n",
       "    <tr>\n",
       "      <th>0</th>\n",
       "      <td>Lloyd 1.5 Ton 3 Star Inverter Split Ac (5 In 1...</td>\n",
       "      <td>appliances</td>\n",
       "      <td>Air Conditioners</td>\n",
       "      <td>4.2</td>\n",
       "      <td>2,255</td>\n",
       "      <td>32999.0</td>\n",
       "      <td>58990.0</td>\n",
       "    </tr>\n",
       "  </tbody>\n",
       "</table>\n",
       "</div>"
      ],
      "text/plain": [
       "                                                name main_category  \\\n",
       "0  Lloyd 1.5 Ton 3 Star Inverter Split Ac (5 In 1...    appliances   \n",
       "\n",
       "       sub_category ratings no_of_ratings  discount_price  actual_price  \n",
       "0  Air Conditioners     4.2         2,255         32999.0       58990.0  "
      ]
     },
     "execution_count": 6,
     "metadata": {},
     "output_type": "execute_result"
    }
   ],
   "source": [
    "col_names = df[['discount_price', 'actual_price']]\n",
    "\n",
    "for column in col_names:\n",
    "    df[column] = df[column].str[1:]  # Remove first element in each row\n",
    "    df[column] = df[column].str.replace(',', '') # Remove comma elements in each row\n",
    "    df[column] = df[column].astype(float)  # Change data type to float\n",
    "\n",
    "df.head(1)"
   ]
  },
  {
   "cell_type": "code",
   "execution_count": 7,
   "id": "7d8c43fc",
   "metadata": {},
   "outputs": [
    {
     "data": {
      "text/plain": [
       "array(['4.2', '4.0', '4.1', '4.3', '3.9', '3.8', '3.5', nan, '4.6', '3.3',\n",
       "       '3.4', '3.7', '2.9', '5.0', '4.4', '3.6', '2.7', '4.5', '3.0',\n",
       "       '3.1', '3.2', '4.8', '4.7', '2.5', '1.0', '2.6', '2.8', '2.3',\n",
       "       '1.7', 'Get', '1.8', '2.4', '4.9', '2.2', '1.6', '1.9', '2.0',\n",
       "       '1.4', '2.1', 'FREE', '1.2', '1.3', '1.5', '₹68.99', '₹65', '1.1',\n",
       "       '₹70', '₹100', '₹99', '₹2.99'], dtype=object)"
      ]
     },
     "execution_count": 7,
     "metadata": {},
     "output_type": "execute_result"
    }
   ],
   "source": [
    "df['ratings'].unique()"
   ]
  },
  {
   "cell_type": "markdown",
   "id": "43b72f79",
   "metadata": {},
   "source": [
    "As we can see, we have some values which are not right, so we'll remove them"
   ]
  },
  {
   "cell_type": "code",
   "execution_count": 8,
   "id": "6fc1a127",
   "metadata": {},
   "outputs": [],
   "source": [
    "df.drop(df[df['ratings'] == 'nan'].index, inplace=True)\n",
    "df.drop(df[df['ratings'] == 'Get'].index, inplace=True)\n",
    "df.drop(df[df['ratings'] == '₹'].index, inplace=True)\n",
    "df.drop(df[df['ratings'] == 'FREE'].index, inplace=True)\n",
    "df.drop(df[df['ratings'] == '₹68.99'].index, inplace=True)\n",
    "df.drop(df[df['ratings'] == '₹65'].index, inplace=True)\n",
    "df.drop(df[df['ratings'] == '₹70'].index, inplace=True)\n",
    "df.drop(df[df['ratings'] == '₹100'].index, inplace=True)\n",
    "df.drop(df[df['ratings'] == '₹99'].index, inplace=True)\n",
    "df.drop(df[df['ratings'] == '₹2.99'].index, inplace=True)\n",
    "\n",
    "df = df.dropna()"
   ]
  },
  {
   "cell_type": "code",
   "execution_count": 9,
   "id": "88da6cba",
   "metadata": {},
   "outputs": [
    {
     "data": {
      "text/plain": [
       "array(['4.2', '4.0', '4.1', '4.3', '3.9', '3.8', '3.5', '4.6', '3.3',\n",
       "       '3.4', '3.7', '2.9', '5.0', '4.4', '3.6', '2.7', '4.5', '3.0',\n",
       "       '3.1', '4.8', '4.7', '3.2', '2.5', '1.0', '2.6', '2.8', '1.7',\n",
       "       '1.8', '2.4', '4.9', '2.2', '1.6', '1.9', '2.3', '2.0', '1.4',\n",
       "       '2.1', '1.2', '1.3', '1.5', '1.1'], dtype=object)"
      ]
     },
     "execution_count": 9,
     "metadata": {},
     "output_type": "execute_result"
    }
   ],
   "source": [
    "df['ratings'].unique()"
   ]
  },
  {
   "cell_type": "code",
   "execution_count": 10,
   "id": "37e5e756",
   "metadata": {},
   "outputs": [
    {
     "data": {
      "text/plain": [
       "name              0\n",
       "main_category     0\n",
       "sub_category      0\n",
       "ratings           0\n",
       "no_of_ratings     0\n",
       "discount_price    0\n",
       "actual_price      0\n",
       "dtype: int64"
      ]
     },
     "execution_count": 10,
     "metadata": {},
     "output_type": "execute_result"
    }
   ],
   "source": [
    "df.isnull().sum()"
   ]
  },
  {
   "cell_type": "markdown",
   "id": "780e90dc",
   "metadata": {},
   "source": [
    "All missing values are now removed"
   ]
  },
  {
   "cell_type": "code",
   "execution_count": 11,
   "id": "7eac0808",
   "metadata": {},
   "outputs": [
    {
     "data": {
      "text/html": [
       "<div>\n",
       "<style scoped>\n",
       "    .dataframe tbody tr th:only-of-type {\n",
       "        vertical-align: middle;\n",
       "    }\n",
       "\n",
       "    .dataframe tbody tr th {\n",
       "        vertical-align: top;\n",
       "    }\n",
       "\n",
       "    .dataframe thead th {\n",
       "        text-align: right;\n",
       "    }\n",
       "</style>\n",
       "<table border=\"1\" class=\"dataframe\">\n",
       "  <thead>\n",
       "    <tr style=\"text-align: right;\">\n",
       "      <th></th>\n",
       "      <th>name</th>\n",
       "      <th>main_category</th>\n",
       "      <th>sub_category</th>\n",
       "      <th>ratings</th>\n",
       "      <th>no_of_ratings</th>\n",
       "      <th>discount_price</th>\n",
       "      <th>actual_price</th>\n",
       "    </tr>\n",
       "  </thead>\n",
       "  <tbody>\n",
       "    <tr>\n",
       "      <th>0</th>\n",
       "      <td>Lloyd 1.5 Ton 3 Star Inverter Split Ac (5 In 1...</td>\n",
       "      <td>appliances</td>\n",
       "      <td>Air Conditioners</td>\n",
       "      <td>4.2</td>\n",
       "      <td>2255.0</td>\n",
       "      <td>32999.0</td>\n",
       "      <td>58990.0</td>\n",
       "    </tr>\n",
       "  </tbody>\n",
       "</table>\n",
       "</div>"
      ],
      "text/plain": [
       "                                                name main_category  \\\n",
       "0  Lloyd 1.5 Ton 3 Star Inverter Split Ac (5 In 1...    appliances   \n",
       "\n",
       "       sub_category  ratings  no_of_ratings  discount_price  actual_price  \n",
       "0  Air Conditioners      4.2         2255.0         32999.0       58990.0  "
      ]
     },
     "execution_count": 11,
     "metadata": {},
     "output_type": "execute_result"
    }
   ],
   "source": [
    "df['no_of_ratings'] = df['no_of_ratings'].str.replace(',', '')\n",
    "df['no_of_ratings'] = df['no_of_ratings'].astype(float)\n",
    "df['ratings'] = df['ratings'].astype(float) \n",
    "\n",
    "df.head(1)"
   ]
  },
  {
   "cell_type": "markdown",
   "id": "5bdd2323",
   "metadata": {},
   "source": [
    "# EDA #\n",
    "\n",
    "Now that we have cleaned up our data, lets do some analysis"
   ]
  },
  {
   "cell_type": "code",
   "execution_count": 12,
   "id": "b214aa81",
   "metadata": {},
   "outputs": [
    {
     "name": "stdout",
     "output_type": "stream",
     "text": [
      "<class 'pandas.core.frame.DataFrame'>\n",
      "Int64Index: 334963 entries, 0 to 551584\n",
      "Data columns (total 7 columns):\n",
      " #   Column          Non-Null Count   Dtype  \n",
      "---  ------          --------------   -----  \n",
      " 0   name            334963 non-null  object \n",
      " 1   main_category   334963 non-null  object \n",
      " 2   sub_category    334963 non-null  object \n",
      " 3   ratings         334963 non-null  float64\n",
      " 4   no_of_ratings   334963 non-null  float64\n",
      " 5   discount_price  334963 non-null  float64\n",
      " 6   actual_price    334963 non-null  float64\n",
      "dtypes: float64(4), object(3)\n",
      "memory usage: 20.4+ MB\n"
     ]
    }
   ],
   "source": [
    "df.info()"
   ]
  },
  {
   "cell_type": "markdown",
   "id": "2b9293fb",
   "metadata": {},
   "source": [
    "So before cleaning up, we had **551585 entries** and after removing missing values, we have **334963 entries**\n",
    "\n",
    "Let's also change the categories into values (one hot encoding)"
   ]
  },
  {
   "cell_type": "code",
   "execution_count": 13,
   "id": "c0ef60d6",
   "metadata": {},
   "outputs": [
    {
     "data": {
      "text/plain": [
       "accessories                62869\n",
       "women's clothing           60447\n",
       "tv, audio & cameras        46756\n",
       "men's clothing             37025\n",
       "appliances                 25547\n",
       "men's shoes                24833\n",
       "stores                     22191\n",
       "home & kitchen             12524\n",
       "sports & fitness            8028\n",
       "beauty & health             6723\n",
       "kids' fashion               5698\n",
       "car & motorbike             5156\n",
       "toys & baby products        4591\n",
       "bags & luggage              3213\n",
       "industrial supplies         2592\n",
       "women's shoes               2435\n",
       "grocery & gourmet foods     2343\n",
       "pet supplies                1232\n",
       "music                        748\n",
       "home, kitchen, pets           12\n",
       "Name: main_category, dtype: int64"
      ]
     },
     "execution_count": 13,
     "metadata": {},
     "output_type": "execute_result"
    }
   ],
   "source": [
    "df['main_category'].value_counts()"
   ]
  },
  {
   "cell_type": "code",
   "execution_count": 14,
   "id": "74b2819f",
   "metadata": {},
   "outputs": [
    {
     "name": "stdout",
     "output_type": "stream",
     "text": [
      "Total number of main categories:  20\n"
     ]
    }
   ],
   "source": [
    "print(\"Total number of main categories: \", len(df['main_category'].value_counts()))"
   ]
  },
  {
   "cell_type": "code",
   "execution_count": 15,
   "id": "f5159830",
   "metadata": {},
   "outputs": [
    {
     "name": "stdout",
     "output_type": "stream",
     "text": [
      "Total number of sub categories:  112\n"
     ]
    }
   ],
   "source": [
    "print(\"Total number of sub categories: \", len(df['sub_category'].value_counts()))"
   ]
  },
  {
   "cell_type": "code",
   "execution_count": 16,
   "id": "a57954d9",
   "metadata": {},
   "outputs": [
    {
     "data": {
      "text/html": [
       "<div>\n",
       "<style scoped>\n",
       "    .dataframe tbody tr th:only-of-type {\n",
       "        vertical-align: middle;\n",
       "    }\n",
       "\n",
       "    .dataframe tbody tr th {\n",
       "        vertical-align: top;\n",
       "    }\n",
       "\n",
       "    .dataframe thead th {\n",
       "        text-align: right;\n",
       "    }\n",
       "</style>\n",
       "<table border=\"1\" class=\"dataframe\">\n",
       "  <thead>\n",
       "    <tr style=\"text-align: right;\">\n",
       "      <th></th>\n",
       "      <th>ratings</th>\n",
       "      <th>no_of_ratings</th>\n",
       "      <th>discount_price</th>\n",
       "      <th>actual_price</th>\n",
       "    </tr>\n",
       "  </thead>\n",
       "  <tbody>\n",
       "    <tr>\n",
       "      <th>ratings</th>\n",
       "      <td>1.000000</td>\n",
       "      <td>0.040749</td>\n",
       "      <td>0.057262</td>\n",
       "      <td>-0.004137</td>\n",
       "    </tr>\n",
       "    <tr>\n",
       "      <th>no_of_ratings</th>\n",
       "      <td>0.040749</td>\n",
       "      <td>1.000000</td>\n",
       "      <td>0.010138</td>\n",
       "      <td>-0.000159</td>\n",
       "    </tr>\n",
       "    <tr>\n",
       "      <th>discount_price</th>\n",
       "      <td>0.057262</td>\n",
       "      <td>0.010138</td>\n",
       "      <td>1.000000</td>\n",
       "      <td>0.000196</td>\n",
       "    </tr>\n",
       "    <tr>\n",
       "      <th>actual_price</th>\n",
       "      <td>-0.004137</td>\n",
       "      <td>-0.000159</td>\n",
       "      <td>0.000196</td>\n",
       "      <td>1.000000</td>\n",
       "    </tr>\n",
       "  </tbody>\n",
       "</table>\n",
       "</div>"
      ],
      "text/plain": [
       "                 ratings  no_of_ratings  discount_price  actual_price\n",
       "ratings         1.000000       0.040749        0.057262     -0.004137\n",
       "no_of_ratings   0.040749       1.000000        0.010138     -0.000159\n",
       "discount_price  0.057262       0.010138        1.000000      0.000196\n",
       "actual_price   -0.004137      -0.000159        0.000196      1.000000"
      ]
     },
     "execution_count": 16,
     "metadata": {},
     "output_type": "execute_result"
    }
   ],
   "source": [
    "df.corr()"
   ]
  },
  {
   "cell_type": "markdown",
   "id": "6fbc0414",
   "metadata": {},
   "source": [
    "As we can see that ratings have a large positive relation with discount price and a large negative relation with the actual price"
   ]
  },
  {
   "cell_type": "code",
   "execution_count": 17,
   "id": "899751a4",
   "metadata": {},
   "outputs": [
    {
     "data": {
      "text/plain": [
       "<seaborn.axisgrid.FacetGrid at 0x1e20acb8250>"
      ]
     },
     "execution_count": 17,
     "metadata": {},
     "output_type": "execute_result"
    },
    {
     "data": {
      "image/png": "[encoded data removed]",
      "text/plain": [
       "<Figure size 360x360 with 1 Axes>"
      ]
     },
     "metadata": {
      "needs_background": "light"
     },
     "output_type": "display_data"
    }
   ],
   "source": [
    "sns.lmplot(x='ratings', y='discount_price', data=df)"
   ]
  },
  {
   "cell_type": "markdown",
   "id": "54e331da",
   "metadata": {},
   "source": [
    "We have an anomaly, lets look into it"
   ]
  },
  {
   "cell_type": "code",
   "execution_count": 18,
   "id": "d8b0e461",
   "metadata": {},
   "outputs": [
    {
     "data": {
      "text/html": [
       "<div>\n",
       "<style scoped>\n",
       "    .dataframe tbody tr th:only-of-type {\n",
       "        vertical-align: middle;\n",
       "    }\n",
       "\n",
       "    .dataframe tbody tr th {\n",
       "        vertical-align: top;\n",
       "    }\n",
       "\n",
       "    .dataframe thead th {\n",
       "        text-align: right;\n",
       "    }\n",
       "</style>\n",
       "<table border=\"1\" class=\"dataframe\">\n",
       "  <thead>\n",
       "    <tr style=\"text-align: right;\">\n",
       "      <th></th>\n",
       "      <th>name</th>\n",
       "      <th>main_category</th>\n",
       "      <th>sub_category</th>\n",
       "      <th>ratings</th>\n",
       "      <th>no_of_ratings</th>\n",
       "      <th>discount_price</th>\n",
       "      <th>actual_price</th>\n",
       "    </tr>\n",
       "  </thead>\n",
       "  <tbody>\n",
       "    <tr>\n",
       "      <th>498818</th>\n",
       "      <td>Samsung 214 cm (85 inches) 8K Ultra HD Smart N...</td>\n",
       "      <td>tv, audio &amp; cameras</td>\n",
       "      <td>Televisions</td>\n",
       "      <td>4.0</td>\n",
       "      <td>10.0</td>\n",
       "      <td>1249990.0</td>\n",
       "      <td>1594900.0</td>\n",
       "    </tr>\n",
       "  </tbody>\n",
       "</table>\n",
       "</div>"
      ],
      "text/plain": [
       "                                                     name  \\\n",
       "498818  Samsung 214 cm (85 inches) 8K Ultra HD Smart N...   \n",
       "\n",
       "              main_category sub_category  ratings  no_of_ratings  \\\n",
       "498818  tv, audio & cameras  Televisions      4.0           10.0   \n",
       "\n",
       "        discount_price  actual_price  \n",
       "498818       1249990.0     1594900.0  "
      ]
     },
     "execution_count": 18,
     "metadata": {},
     "output_type": "execute_result"
    }
   ],
   "source": [
    "df[df['discount_price'] > 1200000]"
   ]
  },
  {
   "cell_type": "code",
   "execution_count": 19,
   "id": "6513efa7",
   "metadata": {},
   "outputs": [],
   "source": [
    "df = df.drop(df[df['discount_price'] == 1249990.0].index)"
   ]
  },
  {
   "cell_type": "markdown",
   "id": "b7bcd010",
   "metadata": {},
   "source": [
    "Now that we've dropped the anomaly, lets look at the graph again"
   ]
  },
  {
   "cell_type": "code",
   "execution_count": 21,
   "id": "11b45bab",
   "metadata": {},
   "outputs": [
    {
     "data": {
      "text/plain": [
       "<seaborn.axisgrid.FacetGrid at 0x1e26e3912e0>"
      ]
     },
     "execution_count": 21,
     "metadata": {},
     "output_type": "execute_result"
    },
    {
     "data": {
      "image/png": "[encoded data removed]",
      "text/plain": [
       "<Figure size 360x360 with 1 Axes>"
      ]
     },
     "metadata": {
      "needs_background": "light"
     },
     "output_type": "display_data"
    }
   ],
   "source": [
    "sns.lmplot(x='ratings', y='discount_price', data=df)"
   ]
  },
  {
   "cell_type": "markdown",
   "id": "2516cfc8",
   "metadata": {},
   "source": [
    "We can see that as the price goes up (even though it is a discount), rating tend to increase\n",
    "\n",
    "Most values are under the 100,000 Indian Rupee mark"
   ]
  },
  {
   "cell_type": "code",
   "execution_count": 22,
   "id": "6286db66",
   "metadata": {},
   "outputs": [
    {
     "name": "stdout",
     "output_type": "stream",
     "text": [
      "                          ratings  no_of_ratings  discount_price  \\\n",
      "main_category                                                      \n",
      "accessories              3.893068     166.461627     1521.437542   \n",
      "appliances               3.843524     648.962657     4991.651877   \n",
      "bags & luggage           3.898101     364.176471     1615.557420   \n",
      "beauty & health          3.985691    1375.403540      640.712530   \n",
      "car & motorbike          3.719957     264.368891      971.441716   \n",
      "grocery & gourmet foods  4.059496     590.824584      445.093538   \n",
      "home & kitchen           3.974760     707.011019      923.799364   \n",
      "home, kitchen, pets      3.408333       3.916667     3812.916667   \n",
      "industrial supplies      3.820833     354.000772     1884.412762   \n",
      "kids' fashion            3.834223     233.700246      796.628220   \n",
      "men's clothing           3.751430     105.322188      802.220609   \n",
      "men's shoes              3.599170     192.432771     1823.178395   \n",
      "music                    3.928877     303.743316     4350.831230   \n",
      "pet supplies             4.009334     687.553571      718.397175   \n",
      "sports & fitness         3.795765     322.956901     1502.078792   \n",
      "stores                   3.863711     807.254698     1292.048308   \n",
      "toys & baby products     4.012263    2709.452407      836.491771   \n",
      "tv, audio & cameras      3.817641    3814.128842     3513.184803   \n",
      "women's clothing         3.754719     218.644250      627.178777   \n",
      "women's shoes            3.654908     187.454620      958.350057   \n",
      "\n",
      "                          actual_price  \n",
      "main_category                           \n",
      "accessories                3076.305277  \n",
      "appliances                 7566.073695  \n",
      "bags & luggage             3135.975073  \n",
      "beauty & health            1027.631429  \n",
      "car & motorbike            1795.807124  \n",
      "grocery & gourmet foods     650.238903  \n",
      "home & kitchen           792327.470097  \n",
      "home, kitchen, pets        4458.250000  \n",
      "industrial supplies        3030.581601  \n",
      "kids' fashion              1569.842801  \n",
      "men's clothing             1677.453945  \n",
      "men's shoes                3357.861070  \n",
      "music                      6217.964372  \n",
      "pet supplies               1184.692370  \n",
      "sports & fitness          10493.376008  \n",
      "stores                     2527.098655  \n",
      "toys & baby products       1426.610294  \n",
      "tv, audio & cameras        6033.707362  \n",
      "women's clothing           1802.498284  \n",
      "women's shoes              1801.818275  \n"
     ]
    }
   ],
   "source": [
    "main_category = df.groupby('main_category')\n",
    "\n",
    "mean_main_category = main_category.mean()\n",
    "\n",
    "print(mean_main_category)"
   ]
  },
  {
   "cell_type": "markdown",
   "id": "e42015d5",
   "metadata": {},
   "source": [
    "We're looking at the mean values of each caterogry:\n",
    "\n",
    "* ratings have an avergae between 3 - 4 in all categories"
   ]
  },
  {
   "cell_type": "code",
   "execution_count": 23,
   "id": "55b056c4",
   "metadata": {},
   "outputs": [
    {
     "name": "stderr",
     "output_type": "stream",
     "text": [
      "C:\\Users\\saaih\\AppData\\Local\\Temp/ipykernel_15840/2467201643.py:2: FutureWarning: Indexing with multiple keys (implicitly converted to a tuple of keys) will be deprecated, use a list instead.\n",
      "  max_main_category = main_category['name', 'discount_price', 'ratings'].max()\n"
     ]
    },
    {
     "name": "stdout",
     "output_type": "stream",
     "text": [
      "                                                                      name  \\\n",
      "main_category                                                                \n",
      "accessories               ",
      "Stainless Steel Belly Button Ring Body Silver...   \n",
      "appliances               ﻿﻿Lifelong Digital Air Fryer LLHFD722 , 7.5 Li...   \n",
      "bags & luggage           ®Kshavi Moving Straps Transport Rope Belt Home...   \n",
      "beauty & health          • Philips Sonicare Electric Toothbrush I No 1 ...   \n",
      "car & motorbike          ‎PBC Export Mini Car Body Dent Remover Repair ...   \n",
      "grocery & gourmet foods  ÖUI Signature Edition Belgian Waffle Breakfast...   \n",
      "home & kitchen           ☆LBY ute Cotton Basket, Handcrafted Woven Stor...   \n",
      "home, kitchen, pets      USHA (Renewed) Striker Platinum 1200mm 80-watt...   \n",
      "industrial supplies      zhart Vernier Caliper Digital 150 mm/6-Inches ...   \n",
      "kids' fashion            |Dulari gifts| Led Watch Set of - 5 Multi Colo...   \n",
      "men's clothing           zzupps Men's Cotton Briefs (Pack of 1) (gre_la...   \n",
      "men's shoes                          ziesha Men's Velvet Loafer (10) Black   \n",
      "music                    xcluma INMP441 Omnidirectional High Precision ...   \n",
      "pet supplies             slatters be royal store Reversible Dual Ultra ...   \n",
      "sports & fitness         ®Praha Security Strap Adjustable Belt with Com...   \n",
      "stores                   காப்பு/Stainless Steel Kaapu/Master VIjay Kaap...   \n",
      "toys & baby products     zest 4 toyz Plastic Baby Learning Mobile Phone...   \n",
      "tv, audio & cameras      𝟐𝟎𝟐𝟐 𝐔𝐩𝐠𝐫𝐚𝐝𝐞𝐝 for Apple Watch Charger Magnetic...   \n",
      "women's clothing                                  पदीनम् Khadi Cargo Pants   \n",
      "women's shoes            zz fashion white heel sandal for girl anda wom...   \n",
      "\n",
      "                         discount_price  ratings  \n",
      "main_category                                     \n",
      "accessories                    126189.0      5.0  \n",
      "appliances                     185990.0      5.0  \n",
      "bags & luggage                 140000.0      5.0  \n",
      "beauty & health                 62326.0      5.0  \n",
      "car & motorbike                 78757.0      5.0  \n",
      "grocery & gourmet foods         13899.0      5.0  \n",
      "home & kitchen                  60500.0      5.0  \n",
      "home, kitchen, pets              8541.0      5.0  \n",
      "industrial supplies             55850.0      5.0  \n",
      "kids' fashion                  116279.0      5.0  \n",
      "men's clothing                  14090.6      5.0  \n",
      "men's shoes                     27599.0      5.0  \n",
      "music                           76900.0      5.0  \n",
      "pet supplies                    14890.0      5.0  \n",
      "sports & fitness               145900.0      5.0  \n",
      "stores                         116279.0      5.0  \n",
      "toys & baby products            30233.0      5.0  \n",
      "tv, audio & cameras            455990.0      5.0  \n",
      "women's clothing                12749.0      5.0  \n",
      "women's shoes                   15098.0      5.0  \n"
     ]
    }
   ],
   "source": [
    "# Find the highest value in each group\n",
    "max_main_category = main_category['name', 'discount_price', 'ratings'].max()\n",
    "\n",
    "print(max_main_category)"
   ]
  },
  {
   "cell_type": "code",
   "execution_count": null,
   "id": "7360e5da",
   "metadata": {},
   "outputs": [],
   "source": []
  }
 ],
 "metadata": {
  "kernelspec": {
   "display_name": "Python 3 (ipykernel)",
   "language": "python",
   "name": "python3"
  },
  "language_info": {
   "codemirror_mode": {
    "name": "ipython",
    "version": 3
   },
   "file_extension": ".py",
   "mimetype": "text/x-python",
   "name": "python",
   "nbconvert_exporter": "python",
   "pygments_lexer": "ipython3",
   "version": "3.9.7"
  }
 },
 "nbformat": 4,
 "nbformat_minor": 5
}
